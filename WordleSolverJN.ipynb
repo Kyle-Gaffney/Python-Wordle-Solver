{
 "cells": [
  {
   "cell_type": "markdown",
   "id": "9b3a7420",
   "metadata": {},
   "source": [
    "# Wordle Solver Algorithm"
   ]
  },
  {
   "cell_type": "markdown",
   "id": "703aabe4",
   "metadata": {},
   "source": [
    "Wordle is a popular word game hosted by the New York Times,\n",
    "[https://www.nytimes.com/games/wordle/index.html](https://www.nytimes.com/games/wordle/index.html)\n",
    "\n",
    "<img src=\"https://static01.nyt.com/images/2022/01/31/crosswords/wordle-art/wordle-art-mediumSquareAt3X.jpg\" alt=\"Drawing\" style=\"width: 400px;\"/>\n",
    "\n",
    "The object of the game is to guess the day's 5-Letter word within 6 tries.  After each try the game provides feedback about how close your guess was to the target word.  Green letters are correct guesses, Yellow letters signify that the letter appears in the word but not in that location, and Gray letters are letters which are not in the word at all.  Using this feedback you can make better and better guesses until you correctly guess the target word.  In the hardmode variant of the game once a letter is correctly guessed (either yellow or green) you must use those letters in all subsequent guesses.  For example suppose that the word that we are trying to guess is HOUSE and for our first guess we guess SAUCE."
   ]
  },
  {
   "cell_type": "code",
   "execution_count": 150,
   "id": "a06dc4ae",
   "metadata": {},
   "outputs": [
    {
     "data": {
      "text/html": [
       "<style>\n",
       "td , th {font-size: 50px}\n",
       "</style>\n"
      ],
      "text/plain": [
       "<IPython.core.display.HTML object>"
      ]
     },
     "metadata": {},
     "output_type": "display_data"
    }
   ],
   "source": [
    "%%HTML\n",
    "<style>\n",
    "td , th {font-size: 50px}\n",
    "</style>"
   ]
  },
  {
   "cell_type": "markdown",
   "id": "6497ef2a",
   "metadata": {},
   "source": [
    "<style>\n",
    "td , th {font-size: 50px}\n",
    "</style>\n",
    "<table>\n",
    "<thead>\n",
    "<tr>\n",
    "<th> H </th>\n",
    "<th> O </th>\n",
    "<th> U </th>\n",
    "<th> S </th>\n",
    "<th> E </th>\n",
    "</tr>\n",
    "</thead>\n",
    "<tbody>\n",
    "<tr>\n",
    "<td><p style=\"background-color:yellow\">S</p></td>\n",
    "<td><p style=\"background-color:gray\">A</p></td>\n",
    "<td><p style=\"background-color:green\">U</p></td>\n",
    "<td><p style=\"background-color:gray\">C</p></td>\n",
    "<td><p style=\"background-color:green\">E</p></td>\n",
    "</tr>\n",
    "</tbody>\n",
    "</table>\n",
    "\n",
    "Our guess of SAUCE incorrectly guessed A and C, correctly guessed the letters and locations for U and E, and correctly guessed the letter but incorrectly guessed the location for the letter S.  In hard mode all future guesses must contain the correctly guessed letters of S, U, and E and the U and E must remain in those locations.  For example MOUSE would be a permitted next guess but ELUDE would not.  The goal of the game is to continue guessing in such a manner until either the word is correctly guessed or the player has exhausted all 6 guesses.  Continuing our game might looks like:\n",
    "\n",
    "<table>\n",
    "<thead>\n",
    "<tr>\n",
    "<th> H </th>\n",
    "<th> O </th>\n",
    "<th> U </th>\n",
    "<th> S </th>\n",
    "<th> E </th>\n",
    "</tr>\n",
    "</thead>\n",
    "<tbody>\n",
    "<tr>\n",
    "<td><p style=\"background-color:yellow\">S</p></td>\n",
    "<td><p style=\"background-color:gray\">A</p></td>\n",
    "<td><p style=\"background-color:green\">U</p></td>\n",
    "<td><p style=\"background-color:gray\">C</p></td>\n",
    "<td><p style=\"background-color:green\">E</p></td>\n",
    "</tr>\n",
    "<tr>\n",
    "<td><p style=\"background-color:gray\">M</p></td>\n",
    "<td><p style=\"background-color:green\">O</p></td>\n",
    "<td><p style=\"background-color:green\">U</p></td>\n",
    "<td><p style=\"background-color:green\">S</p></td>\n",
    "<td><p style=\"background-color:green\">E</p></td>\n",
    "</tr>\n",
    "<tr>\n",
    "<td><p style=\"background-color:green\">H</p></td>\n",
    "<td><p style=\"background-color:green\">O</p></td>\n",
    "<td><p style=\"background-color:green\">U</p></td>\n",
    "<td><p style=\"background-color:green\">S</p></td>\n",
    "<td><p style=\"background-color:green\">E</p></td>\n",
    "</tr>\n",
    "</tbody>\n",
    "</table>\n",
    "\n",
    "Here we correctly guessed the solution in 3 guesses!  An interesting question then is: Can we create an algorithm to solve any wordle puzzle in as few guesses as possible?"
   ]
  },
  {
   "cell_type": "markdown",
   "id": "a08d306f",
   "metadata": {},
   "source": [
    "# Wordle Solver Version 1\n",
    "The first thing that we need to do is import a dictionary of 5-letter words, we will start with a common dictionary of words from a text file for convinience with the knowledge that it contains proper nouns, as well as may contain other entries which wordle will not accept as a viable word guess:"
   ]
  },
  {
   "cell_type": "code",
   "execution_count": 162,
   "id": "8a43a74f",
   "metadata": {},
   "outputs": [],
   "source": [
    "with open('WordleDict.txt', 'r') as file:\n",
    "    word_list=[word for line in file for word in line.split()]\n",
    "\n",
    "import string\n",
    "alphabet_string = string.ascii_uppercase\n",
    "alphabet_list = list(alphabet_string)\n",
    "\n",
    "#Collect all 5 letter non-proper noun words from the dictionary\n",
    "fiveletterwords = [x for x in word_list if len(x)==5 and x[0] not in alphabet_list]"
   ]
  },
  {
   "cell_type": "markdown",
   "id": "0fc0cfbb",
   "metadata": {},
   "source": [
    "Now that we have a list of five letter words we can consider a solving strategy.  One initial observation is that many of the words in the list will share letters with one another, a word like CHASE is much more likely to give us useful solving information than a word like WHIZZ as letters like C,H, and S are much more common than W or Z.  In order to take this letter frequency information into account we need to split the words up into their component characters and count how many times that each character appears in the list."
   ]
  },
  {
   "cell_type": "code",
   "execution_count": 163,
   "id": "3425e903",
   "metadata": {},
   "outputs": [
    {
     "name": "stdout",
     "output_type": "stream",
     "text": [
      "[('a', 4467), ('e', 4255), ('r', 3043), ('o', 2801), ('i', 2581), ('s', 2383), ('t', 2381), ('l', 2368), ('n', 2214), ('u', 1881), ('y', 1605), ('c', 1546), ('d', 1399), ('h', 1323), ('m', 1301), ('p', 1293), ('b', 1162), ('g', 1102), ('k', 882), ('w', 685), ('f', 661), ('v', 466), ('z', 250), ('x', 189), ('j', 163), ('q', 84)]\n"
     ]
    }
   ],
   "source": [
    "#collect lists of each letter in each position\n",
    "l_1 = [x[0] for x in fiveletterwords]\n",
    "l_2 = [x[1] for x in fiveletterwords]\n",
    "l_3 = [x[2] for x in fiveletterwords]\n",
    "l_4 = [x[3] for x in fiveletterwords]\n",
    "l_5 = [x[4] for x in fiveletterwords]\n",
    "all_letters = l_1+l_2+l_3+l_4+l_5\n",
    "\n",
    "import collections\n",
    "\n",
    "#count up the number of occurences of each letter in each list\n",
    "c_1=collections.Counter(l_1)\n",
    "c_2=collections.Counter(l_2)\n",
    "c_3=collections.Counter(l_3)\n",
    "c_4=collections.Counter(l_4)\n",
    "c_5=collections.Counter(l_5)\n",
    "alc=collections.Counter(all_letters)\n",
    "\n",
    "print(sorted(all_letters_count.items(), key=lambda pair: pair[1], reverse=True))"
   ]
  },
  {
   "cell_type": "markdown",
   "id": "77d6c620",
   "metadata": {},
   "source": [
    "From this letter count information we can calculate a numerical word score for each 5-letter word in the list.  The word with the highest word score will be our next guess.  One problem that we haven't considered yet is what to do with words which have a repeated letter.  For example the word TENET is composed of letters with a high frequency but only has 3 unique letters and as such doesnt make a good first guess as it gives less overall information than a word like RANCH which has letters with lower frequency counts but no repeated letters.  One way that we can deal with this problem is by multiplying the word score by the number of unique letters in the word for the first couple of rounds of guesses.  A first approach then could be to calculate a word score by adding together the total letter counts of each letter appearing in the word and then multiplying the sum by the number of unique letters in the word.  For our two examples TENET and RANCH this would give:\n",
    "\n",
    "$$TENET = (2381+4255+2214+4255+2381)*3/5=9291.6 $$\n",
    "$$RANCH = (3043+4467+2214+1546+1323)*5/5=12593 $$\n"
   ]
  },
  {
   "cell_type": "code",
   "execution_count": 153,
   "id": "48d1a08f",
   "metadata": {},
   "outputs": [
    {
     "name": "stdout",
     "output_type": "stream",
     "text": [
      "[('arose', 16949.0), ('orate', 16947.0), ('arise', 16729.0), ('raise', 16729.0), ('serai', 16729.0)]\n"
     ]
    }
   ],
   "source": [
    "first_guess_score=[]\n",
    "for i in fiveletterwords:\n",
    "    first_guess_score.append((alc[i[0]]+alc[i[1]]+alc[i[2]]+alc[i[3]]+alc[i[4]])*len(set(i))/5)\n",
    "#sort the wordscores to display the best first guess\n",
    "firstwordtuple = list(zip(fiveletterwords , first_guess_score ))\n",
    "sortedwordtuple = sorted(firstwordtuple, key=lambda pair: pair[1], reverse=True)\n",
    "print(sortedwordtuple[:5])"
   ]
  },
  {
   "cell_type": "markdown",
   "id": "67e95e0a",
   "metadata": {},
   "source": [
    "What about Anagrams however?  Two words which have exactly the same letters but in a different order like SCARE and ACRES.  This word score calculation method gives exactly the same score for two words which are anagrams of one another.  An alternative to the method then would be to use positional letter frequency as that gives us a slightly higher chance of getting green responses."
   ]
  },
  {
   "cell_type": "code",
   "execution_count": 154,
   "id": "b9d91f9c",
   "metadata": {},
   "outputs": [
    {
     "name": "stdout",
     "output_type": "stream",
     "text": [
      "[('sairy', 24930), ('saily', 24925), ('solay', 24500), ('soary', 24455), ('maney', 24260)]\n"
     ]
    }
   ],
   "source": [
    "fgs_anagram=[]\n",
    "for i in fiveletterwords:\n",
    "    fgs_anagram.append((c_1[i[0]]+c_2[i[1]]+c_3[i[2]]+c_4[i[3]]+c_5[i[4]])*len(set(i)))\n",
    "#sort the wordscores to display the best first guess\n",
    "fwt_anagram = list(zip(fiveletterwords , fgs_anagram ))\n",
    "swt_anagram = sorted(fwt_anagram, key=lambda pair: pair[1], reverse=True)\n",
    "print(swt_anagram[:5])"
   ]
  },
  {
   "cell_type": "markdown",
   "id": "638646a4",
   "metadata": {},
   "source": [
    "It appears that using the overall letter frequency gives us better initial guesses while using the letter positional frequency may be a better word score calculator for later guesses.  Now that we have a method for ranking our guesses we need imputs to let the algorithm know what word we guessed and what response we got from Wordle for our guess.  To  walk through the algorithm, lets attempt to solve for the Wordle word STEAL, and use as our initial guess the highest score guess word, AROSE.  For this initial guess the first Wordle response would be YXXYY."
   ]
  },
  {
   "cell_type": "code",
   "execution_count": 155,
   "id": "951ba357",
   "metadata": {},
   "outputs": [
    {
     "name": "stdout",
     "output_type": "stream",
     "text": [
      "Enter 5-letter word guess: arose\n",
      "Type the color-coded reply from Wordle:\n",
      " G for Green, Y for Yellow, and X for gray (ex:GGYGX)\n",
      "Color Response from Wordle: XGGXX\n"
     ]
    }
   ],
   "source": [
    "#Wordle Guess Input Function\n",
    "def input_guess():\n",
    "    while True:\n",
    "        guess = input(\"Enter 5-letter word guess: \")\n",
    "        if len(guess) == 5 and guess.lower() in fiveletterwords:\n",
    "            break\n",
    "    return guess.lower()\n",
    "\n",
    "#Wordle Response Input Function\n",
    "def input_response():\n",
    "    print(\"Type the color-coded reply from Wordle:\")\n",
    "    print(\" G for Green, Y for Yellow, and X for gray (ex:GGYGX)\")\n",
    "    while True:\n",
    "        response = input(\"Color Response from Wordle: \")\n",
    "        if len(response) == 5 and set(response) <= {\"G\", \"Y\", \"X\"}:\n",
    "            break\n",
    "        else:\n",
    "            print(f\"Error - invalid answer {response}\")\n",
    "    return response\n",
    "\n",
    "guess=input_guess()\n",
    "responses=input_response()"
   ]
  },
  {
   "cell_type": "markdown",
   "id": "7cf71310",
   "metadata": {},
   "source": [
    "We can now take this feedback and use it to trim the list of possible solutions to the wordle.  A green response means that we can remove any words that do not have the same letter in the same position, a gray response means that we can remove any words that have that letter, and a yellow response means that we can remove any words that do not have that letter and or do have that letter in that position.  For example in our guess AROSE the A is yellow, therefore we can remove any words that start with A or do not have the letter A in the word."
   ]
  },
  {
   "cell_type": "code",
   "execution_count": 104,
   "id": "b8449049",
   "metadata": {},
   "outputs": [
    {
     "name": "stdout",
     "output_type": "stream",
     "text": [
      "[('insea', 15900.0), ('setal', 15854.0), ('steal', 15854.0), ('stela', 15854.0), ('tales', 15854.0)]\n"
     ]
    }
   ],
   "source": [
    "#Trim solution list using Wordle response information\n",
    "for i in range(5):\n",
    "    if responses[i] == 'X':\n",
    "        fiveletterwords = [x for x in fiveletterwords if guess[i] not in x ]\n",
    "    elif responses[i] == 'G':\n",
    "        fiveletterwords = [x for x in fiveletterwords if guess[i] == x[i] ]\n",
    "    elif responses[i] == 'Y':\n",
    "        fiveletterwords = [x for x in fiveletterwords if ( guess[i] in x and guess[i] != x[i] )]\n",
    "\n",
    "#Calculate second guess word scores on the trimmed solution list\n",
    "second_guess_score=[]\n",
    "for i in fiveletterwords:\n",
    "    second_guess_score.append((alc[i[0]]+alc[i[1]]+alc[i[2]]+alc[i[3]]+alc[i[4]])*len(set(i))/5)\n",
    "#sort the wordscores to display the best first guess\n",
    "secondwordtuple = list(zip(fiveletterwords , second_guess_score ))\n",
    "sortedwordtuple = sorted(secondwordtuple, key=lambda pair: pair[1], reverse=True)\n",
    "print(sortedwordtuple[:5])"
   ]
  },
  {
   "cell_type": "markdown",
   "id": "44227558",
   "metadata": {},
   "source": [
    "After recalculating word scores for the newly trimmed potential solution word list using total letter frequency and penalizing repeated letters again, we have generated a new sorted list of potential guesses.  The guess with the new highest word score which Wordle will accept is SETAL which will give a response to STEAL of: GYYGG."
   ]
  },
  {
   "cell_type": "code",
   "execution_count": 105,
   "id": "9180b9d9",
   "metadata": {},
   "outputs": [
    {
     "name": "stdout",
     "output_type": "stream",
     "text": [
      "Enter 5-letter word guess: Setal\n",
      "Type the color-coded reply from Wordle:\n",
      " G for Green, Y for Yellow, and X for gray (ex:GGYGX)\n",
      "Color Response from Wordle: GYYGG\n",
      "[('steal', 3329)]\n"
     ]
    }
   ],
   "source": [
    "guess=input_guess()\n",
    "responses=input_response()\n",
    "\n",
    "#Trim solution list using Wordle response information\n",
    "for i in range(5):\n",
    "    if responses[i] == 'X':\n",
    "        fiveletterwords = [x for x in fiveletterwords if guess[i] not in x ]\n",
    "    elif responses[i] == 'G':\n",
    "        fiveletterwords = [x for x in fiveletterwords if guess[i] == x[i] ]\n",
    "    elif responses[i] == 'Y':\n",
    "        fiveletterwords = [x for x in fiveletterwords if ( guess[i] in x and guess[i] != x[i] )]\n",
    "\n",
    "#Calculate second guess word scores on the trimmed solution list\n",
    "third_guess_score=[]\n",
    "for i in fiveletterwords:\n",
    "    third_guess_score.append((c_1[i[0]]+c_2[i[1]]+c_3[i[2]]+c_4[i[3]]+c_5[i[4]]))\n",
    "#sort the wordscores to display the best first guess\n",
    "thirdwordtuple = list(zip(fiveletterwords , third_guess_score ))\n",
    "sortedwordtuple = sorted(thirdwordtuple, key=lambda pair: pair[1], reverse=True)\n",
    "print(sortedwordtuple[:5])"
   ]
  },
  {
   "cell_type": "markdown",
   "id": "a04ef1bb",
   "metadata": {},
   "source": [
    "Now that we have a basic algorithm that seems to be working there is an additional situation that we haven't yet considered, and that is words with repeated letters.  When a guess has a repeated letter a gray response does not necessarily mean that the repeated letter is not in the solution.  For example consider a guess like TREAT. For the two Ts there are the following potential responses:\n",
    "\n",
    "Gray + Gray = T is not in the solution word\n",
    "\n",
    "Gray + Yellow = This is not a viable response, instead Wordle will give Yellow + Gray\n",
    "\n",
    "Gray + Green = T is the last letter, there is no second T in the solution word\n",
    "\n",
    "Yellow + Gray = There is exactly 1 T in the solution and it is not the first letter or the last letter\n",
    "\n",
    "Yellow + Yellow = There are at least 2 T's and they are not the first or the last letters\n",
    "\n",
    "Yellow + Green = There are at least 2 T's and one of them is the last letter and T is not the first letter\n",
    "\n",
    "Green + Gray = T is the first letter, there is no second T in the solution word\n",
    "\n",
    "Green + Yellow = There are at least 2 T's and one of them is the first letter and T is not the last letter\n",
    "\n",
    "Green + Green = There are at least 2 T's and T is the first and last letter\n",
    "\n",
    "With our current algorithm a Gray + Green response on a repeated letter T would remove all possible solutions from the solution word list as the first Gray response would remove all words that have the letter T in them and the second Green response would remove all words that do not have the letter T as the last letter which combined remove all words from the list.  In order to avoid this the first thing that we need to do is track when we have a repeated letter guess.  For this example let us use as our guess: TENET with Wordle responses XYYXG."
   ]
  },
  {
   "cell_type": "code",
   "execution_count": 145,
   "id": "ce37978d",
   "metadata": {},
   "outputs": [
    {
     "name": "stdout",
     "output_type": "stream",
     "text": [
      "repeated letter(s): ['t', 'e']\n",
      "index of repeated letter(s): [[0, 4], [1, 3]]\n",
      "repeated letter responses: [['X', 'G'], ['Y', 'X']]\n",
      "{'t': ['X', 'G'], 'e': ['Y', 'X']}\n",
      "['X', 'G']\n"
     ]
    }
   ],
   "source": [
    "#Repopulate 5-letter word solution list\n",
    "fiveletterwords = [x for x in word_list if len(x)==5 and x[0] not in alphabet_list]\n",
    "#Create Guess with repeated letter\n",
    "guess=\"tenet\"\n",
    "responses=\"XYYXG\"\n",
    "# check for repeated letters\n",
    "guessletters = [char for char in guess]\n",
    "repeats = [x for x, count in collections.Counter(guess).items() if count > 1]\n",
    "repeatsindex=[]\n",
    "for rl in repeats:\n",
    "    repeatsindex.append([i for i, j in enumerate(guessletters) if j==rl])\n",
    "print('repeated letter(s):' , repeats)\n",
    "print('index of repeated letter(s):' , repeatsindex)\n",
    "repeatsresponses=[]\n",
    "for j in repeatsindex:\n",
    "    repeatsresponses.append([responses[i] for i in j])\n",
    "print('repeated letter responses:' , repeatsresponses)\n",
    "repeatresponsedict=dict(zip(repeats , repeatsresponses))\n",
    "print(repeatresponsedict)\n",
    "print(repeatresponsedict.get('t'))"
   ]
  },
  {
   "cell_type": "markdown",
   "id": "05d8a0a8",
   "metadata": {},
   "source": [
    "This tells us that the solution word has 1 T and it is the last letter and it has 1 E and it is not the second letter.  Now that we have identified the repeated letters in a guess and the corresponding indexes and responses for these repeated letters we can use this information to correct the response algoritm:"
   ]
  },
  {
   "cell_type": "code",
   "execution_count": 149,
   "id": "b077d41d",
   "metadata": {},
   "outputs": [
    {
     "name": "stdout",
     "output_type": "stream",
     "text": [
      "['agent', 'ament', 'anent', 'arent', 'blent', 'brent', 'enact', 'enapt', 'enhat', 'enrut', 'fient', 'glent', 'inept', 'inert', 'knelt', 'olent', 'scent', 'slent', 'spent', 'urent', 'usent']\n"
     ]
    }
   ],
   "source": [
    "#Trim solution list using Wordle response information corrected with repeated letters:\n",
    "for i in range(5):\n",
    "    if guess[i] in repeats:\n",
    "        #all repeated letters are gray\n",
    "        if (repeatresponsedict.get(guess[i]).count('G')+repeatresponsedict.get(guess[i]).count('Y'))==0:\n",
    "            fiveletterwords = [x for x in fiveletterwords if guess[i] not in x]\n",
    "        #the current letter is gray and there is exactly 1 non-gray repeated letter\n",
    "        elif responses[i]=='X' and (repeatresponsedict.get(guess[i]).count('G')+repeatresponsedict.get(guess[i]).count('Y'))==1:\n",
    "            fiveletterwords = [x for x in fiveletterwords if (x.count(guess[i])==1) and x[i] != guess[i]]\n",
    "        #the current letter is gray and there are exactly 2 non-gray repeated letters\n",
    "        elif responses[i]=='X' and (repeatresponsedict.get(guess[i]).count('G')+repeatresponsedict.get(guess[i]).count('Y'))==2:\n",
    "            fiveletterwords = [x for x in fiveletterwords if (x.count(guess[i]) == 2) and x[i] != guess[i]]\n",
    "        #the current letter is yellow and there are no other repeated letters in the word\n",
    "        elif responses[i] == 'Y' and (repeatresponsedict.get(guess[i]).count('G') + repeatresponsedict.get(guess[i]).count('Y')) == 1:\n",
    "            fiveletterwords = [x for x in fiveletterwords if (x.count(guess[i]) == 1) and x[i] != guess[i]]\n",
    "        #the current letter is yellow and there is exactly 1 other repeated letter in the word\n",
    "        elif responses[i]=='Y' and (repeatresponsedict.get(guess[i]).count('G')+repeatresponsedict.get(guess[i]).count('Y'))==2:\n",
    "            fiveletterwords = [x for x in fiveletterwords if (x.count(guess[i]) == 2) and x[i] != guess[i]]\n",
    "        #the current letter is yellow and there are exactly 2 other repeated letters in the word\n",
    "        elif responses[i]=='Y' and (repeatresponsedict.get(guess[i]).count('G')+repeatresponsedict.get(guess[i]).count('Y'))==3:\n",
    "            fiveletterwords = [x for x in fiveletterwords if (x.count(guess[i]) == 3) and x[i] != guess[i]]\n",
    "        #the current letter is green and are no other repeated letters in the word\n",
    "        elif responses[i] == 'G' and (repeatresponsedict.get(guess[i]).count('G') + repeatresponsedict.get(guess[i]).count('Y')) == 1:\n",
    "            fiveletterwords = [x for x in fiveletterwords if (x.count(guess[i]) == 1) and x[i] == guess[i]]\n",
    "        #the current letter is green and there is exactly 1 other repeated letter in the word\n",
    "        elif responses[i] == 'G' and (repeatresponsedict.get(guess[i]).count('G') + repeatresponsedict.get(guess[i]).count('Y')) == 2:\n",
    "            fiveletterwords = [x for x in fiveletterwords if (x.count(guess[i]) == 2) and x[i] == guess[i]]\n",
    "        #the current letter is green and there are exactly 2 other repeated letter in the word\n",
    "        elif responses[i] == 'G' and (repeatresponsedict.get(guess[i]).count('G') + repeatresponsedict.get(guess[i]).count('Y')) == 3:\n",
    "            fiveletterwords = [x for x in fiveletterwords if (x.count(guess[i]) == 3) and x[i] == guess[i]]\n",
    "    # old rules for non-repeated letter guesses\n",
    "    elif responses[i] == 'X':\n",
    "        fiveletterwords = [x for x in fiveletterwords if guess[i] not in x ]\n",
    "    elif responses[i] == 'G':\n",
    "        fiveletterwords = [x for x in fiveletterwords if guess[i] == x[i] ]\n",
    "    elif responses[i] == 'Y':\n",
    "        fiveletterwords = [x for x in fiveletterwords if ( guess[i] in x and guess[i] != x[i] )]\n",
    "print(fiveletterwords)        "
   ]
  },
  {
   "cell_type": "markdown",
   "id": "8ae0ec1c",
   "metadata": {},
   "source": [
    "For our test case of a guess of TENET with a Wordle Response of XYYXG our algorithm now correctly leaves us with words that end with the letter T, and have exactly one T and one E, and at least 1 N."
   ]
  },
  {
   "cell_type": "markdown",
   "id": "0acb2cab",
   "metadata": {},
   "source": [
    "# Pulling Everything Together\n",
    "Now that we have worked out all the wordle response rules we are ready to pull everything together into a single algorithm that we can loop over up to 6 times to play the game."
   ]
  },
  {
   "cell_type": "code",
   "execution_count": 1,
   "id": "3aba229f",
   "metadata": {},
   "outputs": [
    {
     "name": "stdout",
     "output_type": "stream",
     "text": [
      "True\n",
      "[('arose', 16954.0), ('orate', 16952.0), ('arise', 16734.0), ('raise', 16734.0), ('serai', 16734.0)]\n",
      "Enter 5-letter word guess: orate\n",
      "Type the color-coded reply from Wordle:\n",
      " G for Green, Y for Yellow, and X for gray (ex:GGYGX)\n",
      "Color Response from Wordle: YXYXX\n",
      "[('aliso', 14602.0), ('aloin', 14432.0), ('anoil', 14432.0), ('anoli', 14432.0), ('salon', 14235.0)]\n",
      "Enter 5-letter word guess: aliso\n",
      "Type the color-coded reply from Wordle:\n",
      " G for Green, Y for Yellow, and X for gray (ex:GGYGX)\n",
      "Color Response from Wordle: YXXXY\n",
      "[('canon', 3669), ('noway', 3615), ('caoba', 3579), ('monad', 3453), ('gonad', 3451)]\n",
      "Enter 5-letter word guess: canon\n",
      "Type the color-coded reply from Wordle:\n",
      " G for Green, Y for Yellow, and X for gray (ex:GGYGX)\n",
      "Color Response from Wordle: GYXYX\n",
      "[('cooba', 3315), ('couac', 3276), ('couma', 3183), ('cooja', 3179), ('comma', 3025)]\n",
      "Enter 5-letter word guess: comma\n",
      "Type the color-coded reply from Wordle:\n",
      " G for Green, Y for Yellow, and X for gray (ex:GGYGX)\n",
      "Color Response from Wordle: GGGGG\n",
      "Congrats you solved the Wordle in 4 guesses: the Wordle word was comma\n"
     ]
    }
   ],
   "source": [
    "with open('WordleDict.txt', 'r') as file:\n",
    "    word_list=[word for line in file for word in line.split()]\n",
    "\n",
    "import string\n",
    "alphabet_string = string.ascii_uppercase\n",
    "alphabet_list = list(alphabet_string)\n",
    "\n",
    "#Collect all 5 letter non-proper noun words from the dictionary\n",
    "fiveletterwords = [x for x in word_list if len(x)==5 and x[0] not in alphabet_list]\n",
    "\n",
    "#collect lists of each letter in each position\n",
    "l_1 = [x[0] for x in fiveletterwords]\n",
    "l_2 = [x[1] for x in fiveletterwords]\n",
    "l_3 = [x[2] for x in fiveletterwords]\n",
    "l_4 = [x[3] for x in fiveletterwords]\n",
    "l_5 = [x[4] for x in fiveletterwords]\n",
    "all_letters = l_1+l_2+l_3+l_4+l_5\n",
    "\n",
    "import collections\n",
    "\n",
    "#count up the number of occurences of each letter in each list\n",
    "c_1=collections.Counter(l_1)\n",
    "c_2=collections.Counter(l_2)\n",
    "c_3=collections.Counter(l_3)\n",
    "c_4=collections.Counter(l_4)\n",
    "c_5=collections.Counter(l_5)\n",
    "alc=collections.Counter(all_letters)\n",
    "\n",
    "#set limit of the number of guesses allowed\n",
    "maxguessnumber=6\n",
    "\n",
    "#Define Wordle Guess Input Function\n",
    "def input_guess():\n",
    "    while True:\n",
    "        guess = input(\"Enter 5-letter word guess: \")\n",
    "        if len(guess) == 5 and guess.lower() in fiveletterwords:\n",
    "            break\n",
    "    return guess.lower()\n",
    "\n",
    "#Define Wordle Response Input Function\n",
    "def input_response():\n",
    "    print(\"Type the color-coded reply from Wordle:\")\n",
    "    print(\" G for Green, Y for Yellow, and X for gray (ex:GGYGX)\")\n",
    "    while True:\n",
    "        response = input(\"Color Response from Wordle: \")\n",
    "        if len(response) == 5 and set(response) <= {\"G\", \"Y\", \"X\"}:\n",
    "            break\n",
    "        else:\n",
    "            print(f\"Error - invalid answer {response}\")\n",
    "    return response\n",
    "\n",
    "for k in range(maxguessnumber):\n",
    "    guess_score=[]\n",
    "    #for first 2 guesses punish repeated letters and use total letter count\n",
    "    if k<2:\n",
    "        for i in fiveletterwords:\n",
    "            guess_score.append((alc[i[0]]+alc[i[1]]+alc[i[2]]+alc[i[3]]+alc[i[4]])*len(set(i))/5)\n",
    "    #for remaining guesses dont penalize repeated letters and use positional letter count\n",
    "    else:\n",
    "        for i in fiveletterwords:\n",
    "            guess_score.append((c_1[i[0]]+c_2[i[1]]+c_3[i[2]]+c_4[i[3]]+c_5[i[4]]))\n",
    "    #sort the wordscores to display the best first guess\n",
    "    wordtuple = list(zip(fiveletterwords , guess_score ))\n",
    "    sortedwordtuple = sorted(wordtuple, key=lambda pair: pair[1], reverse=True)\n",
    "    #Display top 5 guesses\n",
    "    print(sortedwordtuple[:5])\n",
    "    #User inputs guess, and Wordle response\n",
    "    guess=input_guess()\n",
    "    responses=input_response()\n",
    "    if responses=='GGGGG':\n",
    "        print(f'Congrats you solved the Wordle in {k+1} guesses: the Wordle word was {guess}')\n",
    "        break\n",
    "    # check for repeated letters\n",
    "    guessletters = [char for char in guess]\n",
    "    repeats = [x for x, count in collections.Counter(guess).items() if count > 1]\n",
    "    repeatsindex=[]\n",
    "    for rl in repeats:\n",
    "        repeatsindex.append([i for i, j in enumerate(guessletters) if j==rl])\n",
    "    repeatsresponses=[]\n",
    "    for j in repeatsindex:\n",
    "        repeatsresponses.append([responses[i] for i in j])\n",
    "    repeatresponsedict=dict(zip(repeats , repeatsresponses))\n",
    "    #Trim solution list using Wordle response information corrected with repeated letters:\n",
    "    for i in range(5):\n",
    "        if guess[i] in repeats:\n",
    "            #all repeated letters are gray\n",
    "            if (repeatresponsedict.get(guess[i]).count('G')+repeatresponsedict.get(guess[i]).count('Y'))==0:\n",
    "                fiveletterwords = [x for x in fiveletterwords if guess[i] not in x]\n",
    "            #the current letter is gray and there is exactly 1 non-gray repeated letter\n",
    "            elif responses[i]=='X' and (repeatresponsedict.get(guess[i]).count('G')+repeatresponsedict.get(guess[i]).count('Y'))==1:\n",
    "                fiveletterwords = [x for x in fiveletterwords if (x.count(guess[i])==1) and x[i] != guess[i]]\n",
    "            #the current letter is gray and there are exactly 2 non-gray repeated letters\n",
    "            elif responses[i]=='X' and (repeatresponsedict.get(guess[i]).count('G')+repeatresponsedict.get(guess[i]).count('Y'))==2:\n",
    "                fiveletterwords = [x for x in fiveletterwords if (x.count(guess[i]) == 2) and x[i] != guess[i]]\n",
    "            #the current letter is yellow and there are no other repeated letters in the word\n",
    "            elif responses[i] == 'Y' and (repeatresponsedict.get(guess[i]).count('G') + repeatresponsedict.get(guess[i]).count('Y')) == 1:\n",
    "                fiveletterwords = [x for x in fiveletterwords if (x.count(guess[i]) == 1) and x[i] != guess[i]]\n",
    "            #the current letter is yellow and there is exactly 1 other repeated letter in the word\n",
    "            elif responses[i]=='Y' and (repeatresponsedict.get(guess[i]).count('G')+repeatresponsedict.get(guess[i]).count('Y'))==2:\n",
    "                fiveletterwords = [x for x in fiveletterwords if (x.count(guess[i]) == 2) and x[i] != guess[i]]\n",
    "            #the current letter is yellow and there are exactly 2 other repeated letters in the word\n",
    "            elif responses[i]=='Y' and (repeatresponsedict.get(guess[i]).count('G')+repeatresponsedict.get(guess[i]).count('Y'))==3:\n",
    "                fiveletterwords = [x for x in fiveletterwords if (x.count(guess[i]) == 3) and x[i] != guess[i]]\n",
    "            #the current letter is green and are no other repeated letters in the word\n",
    "            elif responses[i] == 'G' and (repeatresponsedict.get(guess[i]).count('G') + repeatresponsedict.get(guess[i]).count('Y')) == 1:\n",
    "                fiveletterwords = [x for x in fiveletterwords if (x.count(guess[i]) == 1) and x[i] == guess[i]]\n",
    "            #the current letter is green and there is exactly 1 other repeated letter in the word\n",
    "            elif responses[i] == 'G' and (repeatresponsedict.get(guess[i]).count('G') + repeatresponsedict.get(guess[i]).count('Y')) == 2:\n",
    "                fiveletterwords = [x for x in fiveletterwords if (x.count(guess[i]) == 2) and x[i] == guess[i]]\n",
    "            #the current letter is green and there are exactly 2 other repeated letter in the word\n",
    "            elif responses[i] == 'G' and (repeatresponsedict.get(guess[i]).count('G') + repeatresponsedict.get(guess[i]).count('Y')) == 3:\n",
    "                fiveletterwords = [x for x in fiveletterwords if (x.count(guess[i]) == 3) and x[i] == guess[i]]\n",
    "        # old rules for non-repeated letter guesses\n",
    "        elif responses[i] == 'X':\n",
    "            fiveletterwords = [x for x in fiveletterwords if guess[i] not in x ]\n",
    "        elif responses[i] == 'G':\n",
    "            fiveletterwords = [x for x in fiveletterwords if guess[i] == x[i] ]\n",
    "        elif responses[i] == 'Y':\n",
    "            fiveletterwords = [x for x in fiveletterwords if ( guess[i] in x and guess[i] != x[i] )]    "
   ]
  },
  {
   "cell_type": "markdown",
   "id": "d76fc038",
   "metadata": {},
   "source": [
    "We now have an algorithm in python to solve for the daily wordle using insights about letter frequency to improve our guessing, in future versions of the algorithm we can apply weight functions to the letter frequencies and iterate over solution lists to allow the algorithm to accurately guess the word in fewer guesses."
   ]
  },
  {
   "cell_type": "code",
   "execution_count": null,
   "id": "8ec17564",
   "metadata": {},
   "outputs": [],
   "source": []
  }
 ],
 "metadata": {
  "kernelspec": {
   "display_name": "Python 3 (ipykernel)",
   "language": "python",
   "name": "python3"
  },
  "language_info": {
   "codemirror_mode": {
    "name": "ipython",
    "version": 3
   },
   "file_extension": ".py",
   "mimetype": "text/x-python",
   "name": "python",
   "nbconvert_exporter": "python",
   "pygments_lexer": "ipython3",
   "version": "3.10.2"
  }
 },
 "nbformat": 4,
 "nbformat_minor": 5
}
